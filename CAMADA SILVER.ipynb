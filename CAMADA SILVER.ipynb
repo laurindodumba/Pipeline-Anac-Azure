{
 "cells": [
  {
   "cell_type": "code",
   "execution_count": 0,
   "metadata": {
    "application/vnd.databricks.v1+cell": {
     "cellMetadata": {
      "byteLimit": 2048000,
      "rowLimit": 10000
     },
     "inputWidgets": {},
     "nuid": "e5705462-2f73-4ef3-bafe-74a56ce4f60d",
     "showTitle": false,
     "tableResultSettingsMap": {},
     "title": ""
    }
   },
   "outputs": [],
   "source": [
    "# Ler a tabela Delta diretamente pelo catalog.schema.tabela\n",
    "df_anac = spark.table(\"cat_ANAC.dn_anac.tabela_anac\")\n",
    "\n",
    "# Mostrar os dados\n",
    "display(df_anac)\n"
   ]
  },
  {
   "cell_type": "code",
   "execution_count": 0,
   "metadata": {
    "application/vnd.databricks.v1+cell": {
     "cellMetadata": {
      "byteLimit": 2048000,
      "rowLimit": 10000
     },
     "inputWidgets": {},
     "nuid": "3111f341-f902-477b-a2b3-7bdda7f4dd80",
     "showTitle": false,
     "tableResultSettingsMap": {},
     "title": ""
    }
   },
   "outputs": [],
   "source": [
    "df = df_anac.withColumn(\n",
    "    \"Status_Validade\",\n",
    "    F.when(F.col(\"DATA_VALIDADE\") >= F.current_date(), \"Ativo\").otherwise(\"Vencido\")\n",
    ")\n"
   ]
  },
  {
   "cell_type": "code",
   "execution_count": 0,
   "metadata": {
    "application/vnd.databricks.v1+cell": {
     "cellMetadata": {
      "byteLimit": 2048000,
      "rowLimit": 10000
     },
     "inputWidgets": {},
     "nuid": "9678c5cf-8347-41a5-996d-be345b97cfa4",
     "showTitle": false,
     "tableResultSettingsMap": {},
     "title": ""
    }
   },
   "outputs": [],
   "source": [
    "display(df)"
   ]
  },
  {
   "cell_type": "markdown",
   "metadata": {
    "application/vnd.databricks.v1+cell": {
     "cellMetadata": {
      "byteLimit": 2048000,
      "rowLimit": 10000
     },
     "inputWidgets": {},
     "nuid": "ca18c2f7-14c4-421d-a34e-6c5ac8eda622",
     "showTitle": false,
     "tableResultSettingsMap": {},
     "title": ""
    }
   },
   "source": [
    "# DESENVOLVENDO A TABELA ANALÍTICA"
   ]
  },
  {
   "cell_type": "markdown",
   "metadata": {
    "application/vnd.databricks.v1+cell": {
     "cellMetadata": {
      "byteLimit": 2048000,
      "rowLimit": 10000
     },
     "inputWidgets": {},
     "nuid": "0a28b7d7-bad3-416b-832d-112cb739c0ba",
     "showTitle": false,
     "tableResultSettingsMap": {},
     "title": ""
    }
   },
   "source": [
    "| Coluna                      | Tipo      | Descrição                                 |\n",
    "| --------------------------- | --------- | ----------------------------------------- |\n",
    "| CODIGO\\_AERONAVE            | string    | Código único do drone                     |\n",
    "| DATA\\_VALIDADE              | timestamp | Data de validade do certificado           |\n",
    "| STATUS\\_VALIDADE            | string    | Ativo / Vencido                           |\n",
    "| OPERADOR                    | string    | Nome do operador                          |\n",
    "| CPF\\_CNPJ                   | string    | Identificador do operador                 |\n",
    "| TIPO\\_USO                   | string    | Uso do drone (recreativo, comercial, etc) |\n",
    "| FABRICANTE                  | string    | Fabricante do drone                       |\n",
    "| MODELO                      | string    | Modelo do drone                           |\n",
    "| NUMERO\\_SERIE               | string    | Número de série do drone                  |\n",
    "| PESO\\_MAXIMO\\_DECOLAGEM\\_KG | double    | Peso máximo de decolagem                  |\n",
    "| RAMO\\_ATIVIDADE             | string    | Atividade principal do operador           |\n",
    "| TOTAL\\_DRONES\\_OPERADOR     | long      | Total de drones por operador              |\n",
    "| TOP\\_FABRICANTE\\_OPERADOR   | string    | Fabricante mais comum do operador         |\n",
    "| Ano                         | integer   | Ano da validade                           |\n",
    "| Mes                         | integer   | Mês da validade                           |\n",
    "| Dia                         | integer   | Dia da validade                           |\n"
   ]
  },
  {
   "cell_type": "code",
   "execution_count": 0,
   "metadata": {
    "application/vnd.databricks.v1+cell": {
     "cellMetadata": {
      "byteLimit": 2048000,
      "rowLimit": 10000
     },
     "inputWidgets": {},
     "nuid": "f5f36c84-2975-4da9-8b21-e298ad69183d",
     "showTitle": false,
     "tableResultSettingsMap": {},
     "title": ""
    }
   },
   "outputs": [],
   "source": [
    "display(df)"
   ]
  },
  {
   "cell_type": "code",
   "execution_count": 0,
   "metadata": {
    "application/vnd.databricks.v1+cell": {
     "cellMetadata": {
      "byteLimit": 2048000,
      "rowLimit": 10000
     },
     "inputWidgets": {},
     "nuid": "6d0a2354-3cf5-47e6-8cf4-1c8c1da700a3",
     "showTitle": false,
     "tableResultSettingsMap": {},
     "title": ""
    }
   },
   "outputs": [],
   "source": [
    "df.write.format(\"delta\").mode(\"overwrite\").saveAsTable(\"cat_anac.dn_anac.drones_analitica\")\n"
   ]
  },
  {
   "cell_type": "markdown",
   "metadata": {
    "application/vnd.databricks.v1+cell": {
     "cellMetadata": {},
     "inputWidgets": {},
     "nuid": "e957d801-168c-45bb-8179-ce809f0f9511",
     "showTitle": false,
     "tableResultSettingsMap": {},
     "title": ""
    }
   },
   "source": [
    "# DESENVOLVIMENTO DA TABELA CONSOLIDADA"
   ]
  },
  {
   "cell_type": "markdown",
   "metadata": {
    "application/vnd.databricks.v1+cell": {
     "cellMetadata": {},
     "inputWidgets": {},
     "nuid": "720fdd35-efce-4527-beb0-89ef9d487cbd",
     "showTitle": false,
     "tableResultSettingsMap": {},
     "title": ""
    }
   },
   "source": [
    "| Coluna                  | Tipo    | Descrição                                         |\n",
    "| ----------------------- | ------- | ------------------------------------------------- |\n",
    "| OPERADOR                | string  | Nome do operador                                  |\n",
    "| CPF\\_CNPJ               | string  | Identificador do operador                         |\n",
    "| TOTAL\\_DRONES           | long    | Total de drones do operador                       |\n",
    "| DRONES\\_ATIVOS          | long    | Drones com certificado ativo                      |\n",
    "| DRONES\\_VENCIDOS        | long    | Drones com certificado vencido                    |\n",
    "| PESO\\_MAXIMO\\_MEDIO\\_KG | double  | Peso máximo médio de decolagem                    |\n",
    "| TOP\\_FABRICANTE         | string  | Fabricante mais comum do operador                 |\n",
    "| TOP\\_MODELO             | string  | Modelo mais comum do operador                     |\n",
    "| TIPO\\_USO\\_PRINCIPAL    | string  | Tipo de uso mais comum do operador                |\n",
    "| Ano                     | integer | Ano da validade (opcional, para análise temporal) |\n",
    "| Mes                     | integer | Mês da validade (opcional, para análise temporal) |\n"
   ]
  },
  {
   "cell_type": "code",
   "execution_count": 0,
   "metadata": {
    "application/vnd.databricks.v1+cell": {
     "cellMetadata": {
      "byteLimit": 2048000,
      "rowLimit": 10000
     },
     "inputWidgets": {},
     "nuid": "e44ab014-e08c-4fd7-aa80-5a4d193e3011",
     "showTitle": false,
     "tableResultSettingsMap": {},
     "title": ""
    }
   },
   "outputs": [],
   "source": [
    "from pyspark.sql import functions as F\n",
    "from pyspark.sql.window import Window\n",
    "\n",
    "# Agrupar e calcular métricas consolidadas\n",
    "df_consolidada = df.groupBy(\"OPERADOR\", \"CPF_CNPJ\").agg(\n",
    "    F.count(\"*\").alias(\"TOTAL_DRONES\"),\n",
    "    F.sum(F.when(F.col(\"STATUS_VALIDADE\") == \"Ativo\", 1).otherwise(0)).alias(\"DRONES_ATIVOS\"),\n",
    "    F.sum(F.when(F.col(\"STATUS_VALIDADE\") == \"Vencido\", 1).otherwise(0)).alias(\"DRONES_VENCIDOS\"),\n",
    "    F.avg(\"PESO_MAXIMO_DECOLAGEM_KG\").alias(\"PESO_MAXIMO_MEDIO_KG\")\n",
    ")\n",
    "\n",
    "# Top fabricante e modelo por operador\n",
    "window_fab = Window.partitionBy(\"OPERADOR\").orderBy(F.desc(\"count_fab\"))\n",
    "df_fab_count = df.groupBy(\"OPERADOR\", \"FABRICANTE\").count().withColumnRenamed(\"count\", \"count_fab\")\n",
    "df_top_fab = df_fab_count.withColumn(\"rank_fab\", F.row_number().over(window_fab)).filter(F.col(\"rank_fab\") == 1).select(\"OPERADOR\", F.col(\"FABRICANTE\").alias(\"TOP_FABRICANTE\"))\n",
    "\n",
    "window_model = Window.partitionBy(\"OPERADOR\").orderBy(F.desc(\"count_model\"))\n",
    "df_model_count = df.groupBy(\"OPERADOR\", \"MODELO\").count().withColumnRenamed(\"count\", \"count_model\")\n",
    "df_top_model = df_model_count.withColumn(\"rank_model\", F.row_number().over(window_model)).filter(F.col(\"rank_model\") == 1).select(\"OPERADOR\", F.col(\"MODELO\").alias(\"TOP_MODELO\"))\n",
    "\n",
    "# Tipo de uso principal\n",
    "df_tipouso_count = df.groupBy(\"OPERADOR\", \"TIPO_USO\").count().withColumnRenamed(\"count\", \"count_tipouso\")\n",
    "window_tipo = Window.partitionBy(\"OPERADOR\").orderBy(F.desc(\"count_tipouso\"))\n",
    "df_top_tipo = df_tipouso_count.withColumn(\"rank_tipo\", F.row_number().over(window_tipo)).filter(F.col(\"rank_tipo\") == 1).select(\"OPERADOR\", F.col(\"TIPO_USO\").alias(\"TIPO_USO_PRINCIPAL\"))\n",
    "\n",
    "# Juntar métricas agregadas\n",
    "df_consolidada = df_consolidada.join(df_top_fab, \"OPERADOR\", \"left\")\\\n",
    "                               .join(df_top_model, \"OPERADOR\", \"left\")\\\n",
    "                               .join(df_top_tipo, \"OPERADOR\", \"left\")\n",
    "\n",
    "# Salvar como Delta\n",
    "df_consolidada.write.format(\"delta\").mode(\"overwrite\").saveAsTable(\"cat_anac.dn_anac.drones_consolidada\")\n"
   ]
  },
  {
   "cell_type": "code",
   "execution_count": 0,
   "metadata": {
    "application/vnd.databricks.v1+cell": {
     "cellMetadata": {
      "byteLimit": 2048000,
      "rowLimit": 10000
     },
     "inputWidgets": {},
     "nuid": "129ab8d7-51ab-46df-a744-cf74afd2f47f",
     "showTitle": false,
     "tableResultSettingsMap": {},
     "title": ""
    }
   },
   "outputs": [],
   "source": []
  }
 ],
 "metadata": {
  "application/vnd.databricks.v1+notebook": {
   "computePreferences": null,
   "dashboards": [],
   "environmentMetadata": {
    "base_environment": "",
    "environment_version": "2"
   },
   "inputWidgetPreferences": null,
   "language": "python",
   "notebookMetadata": {
    "pythonIndentUnit": 4
   },
   "notebookName": "CAMADA SILVER",
   "widgets": {}
  },
  "language_info": {
   "name": "python"
  }
 },
 "nbformat": 4,
 "nbformat_minor": 0
}
